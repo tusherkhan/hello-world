{
 "cells": [
  {
   "cell_type": "code",
   "execution_count": 1,
   "metadata": {},
   "outputs": [],
   "source": [
    "import string"
   ]
  },
  {
   "cell_type": "code",
   "execution_count": 2,
   "metadata": {},
   "outputs": [],
   "source": [
    "s = 'the quick brown fox jumper over the lazy dog'"
   ]
  },
  {
   "cell_type": "code",
   "execution_count": 3,
   "metadata": {},
   "outputs": [
    {
     "name": "stdout",
     "output_type": "stream",
     "text": [
      "the quick brown fox jumper over the lazy dog\n"
     ]
    }
   ],
   "source": [
    "print(s)"
   ]
  },
  {
   "cell_type": "code",
   "execution_count": 4,
   "metadata": {},
   "outputs": [
    {
     "name": "stdout",
     "output_type": "stream",
     "text": [
      "The Quick Brown Fox Jumper Over The Lazy Dog\n"
     ]
    }
   ],
   "source": [
    "print(string.capwords(s))"
   ]
  },
  {
   "cell_type": "code",
   "execution_count": 13,
   "metadata": {},
   "outputs": [
    {
     "name": "stdout",
     "output_type": "stream",
     "text": [
      "TEMPLATE: \n",
      "Variable           :foo\n",
      "Escape             :$\n",
      "Variable in text   :fooiable\n",
      "\n",
      "INTERPOLATION: \n",
      "Variable              : foo\n",
      "Escape                : %\n",
      "Variable in text      : fooiable\n",
      "\n",
      "FORMAT: \n",
      "Variable            : foo\n",
      "Escape              : {}\n",
      "Variable in text    :fooiable\n",
      "\n"
     ]
    }
   ],
   "source": [
    "values = {'var': 'foo'}\n",
    "t = string.Template(\"\"\"\n",
    "Variable           :$var\n",
    "Escape             :$$\n",
    "Variable in text   :${var}iable\n",
    "\"\"\")\n",
    "\n",
    "print('TEMPLATE:', t.substitute(values))\n",
    "\n",
    "s = \"\"\"\n",
    "Variable              : %(var)s\n",
    "Escape                : %%\n",
    "Variable in text      : %(var)siable\n",
    "\"\"\"\n",
    "print('INTERPOLATION:', s % values)\n",
    "\n",
    "s = \"\"\"\n",
    "Variable            : {var}\n",
    "Escape              : {{}}\n",
    "Variable in text    :{var}iable\n",
    "\"\"\"\n",
    "\n",
    "print('FORMAT:', s.format(**values))"
   ]
  },
  {
   "cell_type": "code",
   "execution_count": 14,
   "metadata": {},
   "outputs": [],
   "source": [
    "import string"
   ]
  },
  {
   "cell_type": "code",
   "execution_count": 16,
   "metadata": {},
   "outputs": [
    {
     "name": "stdout",
     "output_type": "stream",
     "text": [
      "ERROR: 'missing'\n",
      "safe_substitute(): foo is here but $missing is not provides\n"
     ]
    }
   ],
   "source": [
    "values = {'var': 'foo'}\n",
    "t = string.Template(\"$var is here but $missing is not provides\")\n",
    "\n",
    "try:\n",
    "    print('substitute()     :', t.substitute(values))\n",
    "except KeyError as err:\n",
    "    print('ERROR:', str(err))\n",
    "    \n",
    "print('safe_substitute():', t.safe_substitute(values))"
   ]
  },
  {
   "cell_type": "code",
   "execution_count": null,
   "metadata": {},
   "outputs": [],
   "source": []
  }
 ],
 "metadata": {
  "kernelspec": {
   "display_name": "Python 3",
   "language": "python",
   "name": "python3"
  },
  "language_info": {
   "codemirror_mode": {
    "name": "ipython",
    "version": 3
   },
   "file_extension": ".py",
   "mimetype": "text/x-python",
   "name": "python",
   "nbconvert_exporter": "python",
   "pygments_lexer": "ipython3",
   "version": "3.7.4"
  }
 },
 "nbformat": 4,
 "nbformat_minor": 2
}
